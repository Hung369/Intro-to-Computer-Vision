{
 "cells": [
  {
   "cell_type": "code",
   "execution_count": 1,
   "id": "fc02af8e",
   "metadata": {},
   "outputs": [],
   "source": [
    "import cv2\n",
    "import matplotlib.pyplot as plt\n",
    "import numpy as np"
   ]
  },
  {
   "cell_type": "markdown",
   "id": "436c15ae",
   "metadata": {},
   "source": [
    "## Line detection"
   ]
  },
  {
   "cell_type": "markdown",
   "id": "98584f66",
   "metadata": {},
   "source": [
    "Choose 2 points to sample random"
   ]
  },
  {
   "cell_type": "code",
   "execution_count": 2,
   "id": "c36d1330",
   "metadata": {},
   "outputs": [],
   "source": [
    "def RandomSample(r,c,n): # r: array of row points, c: array of column points, n: number of points to sample random\n",
    "    totalPoints = len(r)\n",
    "    idx = np.random.permutation(np.arange(totalPoints))\n",
    "    idx = idx[:n] # pick first n indecies\n",
    "    r2,c2 = [],[] # initialize 2 empty array\n",
    "    for i in range(len(idx)):\n",
    "        r2.append(r[idx[i]])\n",
    "        c2.append(c[idx[i]])\n",
    "    return r2,c2"
   ]
  },
  {
   "cell_type": "code",
   "execution_count": 3,
   "id": "6882ad6c",
   "metadata": {},
   "outputs": [],
   "source": [
    "r = np.arange(10)\n",
    "c = np.arange(10)[::-1] # reverse order"
   ]
  },
  {
   "cell_type": "code",
   "execution_count": 4,
   "id": "0d8baf3a",
   "metadata": {},
   "outputs": [
    {
     "name": "stdout",
     "output_type": "stream",
     "text": [
      "[0 1 2 3 4 5 6 7 8 9]\n"
     ]
    }
   ],
   "source": [
    "print(r)"
   ]
  },
  {
   "cell_type": "code",
   "execution_count": 5,
   "id": "ac0f88cc",
   "metadata": {},
   "outputs": [
    {
     "name": "stdout",
     "output_type": "stream",
     "text": [
      "[9 8 7 6 5 4 3 2 1 0]\n"
     ]
    }
   ],
   "source": [
    "print(c)"
   ]
  },
  {
   "cell_type": "code",
   "execution_count": 6,
   "id": "c00aac36",
   "metadata": {},
   "outputs": [
    {
     "name": "stdout",
     "output_type": "stream",
     "text": [
      "[2, 0] [7, 9]\n"
     ]
    }
   ],
   "source": [
    "r2,c2 = RandomSample(r,c,2)\n",
    "print(r2,c2)"
   ]
  },
  {
   "cell_type": "markdown",
   "id": "6c8c61ab",
   "metadata": {},
   "source": [
    "Fitting lines with 2 points"
   ]
  },
  {
   "cell_type": "code",
   "execution_count": 7,
   "id": "c904a99c",
   "metadata": {},
   "outputs": [],
   "source": [
    "def FitLine(r1,c1,r2,c2): # r = x : rows , c = y : columns, 1: point1, 2: point2\n",
    "    p = np.array([1,1])\n",
    "    A = np.array([[r1,1],[r2,1]])\n",
    "    q = np.array([[c1],[c2]])\n",
    "    if np.linalg.matrix_rank(A) == 2: # compute matrix rank\n",
    "        p = np.linalg.inv(A).dot(q)\n",
    "    a, b = p[0], p[1]\n",
    "    return a,b"
   ]
  },
  {
   "cell_type": "code",
   "execution_count": 8,
   "id": "1cabbbf0",
   "metadata": {},
   "outputs": [
    {
     "name": "stdout",
     "output_type": "stream",
     "text": [
      "[-1.] [9.]\n"
     ]
    }
   ],
   "source": [
    "a,b = FitLine(r2[0],c2[0],r2[1],c2[1])\n",
    "print(a,b)"
   ]
  },
  {
   "cell_type": "markdown",
   "id": "dbae5ff3",
   "metadata": {},
   "source": [
    "Score Consistency"
   ]
  },
  {
   "cell_type": "code",
   "execution_count": 9,
   "id": "7d559b14",
   "metadata": {},
   "outputs": [],
   "source": [
    "def getConsistencyScore(r,c,th,a,b):\n",
    "    score = 0\n",
    "    for i in range(len(r)):\n",
    "        squaredError = (a*r[i]+b - c[i])**2\n",
    "        if squaredError < th:\n",
    "            score += 1\n",
    "    return score"
   ]
  },
  {
   "cell_type": "markdown",
   "id": "ec61cc04",
   "metadata": {},
   "source": [
    "General Function"
   ]
  },
  {
   "cell_type": "code",
   "execution_count": 10,
   "id": "b06bbb99",
   "metadata": {},
   "outputs": [],
   "source": [
    "def RANSACLine(E):\n",
    "    E = E>0\n",
    "    idx = np.argwhere(E)\n",
    "    r , c = idx[:,0] , idx[:,1]\n",
    "    best_a , best_b = 0 , 0\n",
    "    maxScore = -1\n",
    "    numIter = 1000\n",
    "    for iter in range(numIter):\n",
    "        r2,c2 = RandomSample(r,c,2)\n",
    "        a,b = FitLine(r2[0],c2[0],r2[1],c2[1])\n",
    "        score = getConsistencyScore(r,c,2,a,b)\n",
    "        if score > maxScore:\n",
    "            maxScore = score\n",
    "            best_a , best_b = a , b\n",
    "    return best_a,best_b"
   ]
  },
  {
   "cell_type": "code",
   "execution_count": 11,
   "id": "a15ac252",
   "metadata": {},
   "outputs": [],
   "source": [
    "E = plt.imread(r'E.png')"
   ]
  },
  {
   "cell_type": "code",
   "execution_count": 12,
   "id": "806cf30c",
   "metadata": {},
   "outputs": [
    {
     "data": {
      "text/plain": [
       "(499, 1153, 4)"
      ]
     },
     "execution_count": 12,
     "metadata": {},
     "output_type": "execute_result"
    }
   ],
   "source": [
    "E.shape"
   ]
  },
  {
   "cell_type": "code",
   "execution_count": 13,
   "id": "dea0bd14",
   "metadata": {},
   "outputs": [],
   "source": [
    "E = E[:,:,0]"
   ]
  },
  {
   "cell_type": "code",
   "execution_count": 14,
   "id": "36875c7a",
   "metadata": {},
   "outputs": [
    {
     "data": {
      "text/plain": [
       "(-0.5, 1152.5, 498.5, -0.5)"
      ]
     },
     "execution_count": 14,
     "metadata": {},
     "output_type": "execute_result"
    },
    {
     "data": {
      "image/png": "[encoded data removed]",
      "text/plain": [
       "<Figure size 432x288 with 1 Axes>"
      ]
     },
     "metadata": {
      "needs_background": "light"
     },
     "output_type": "display_data"
    }
   ],
   "source": [
    "plt.imshow(E,cmap='gray')\n",
    "plt.axis('off')"
   ]
  },
  {
   "cell_type": "code",
   "execution_count": 15,
   "id": "e13378c8",
   "metadata": {},
   "outputs": [
    {
     "data": {
      "text/plain": [
       "(array([0.98543689]), array([635.2184466]))"
      ]
     },
     "execution_count": 15,
     "metadata": {},
     "output_type": "execute_result"
    }
   ],
   "source": [
    "best_a, best_b = RANSACLine(E)\n",
    "best_a, best_b"
   ]
  },
  {
   "cell_type": "code",
   "execution_count": 16,
   "id": "ac7c868e",
   "metadata": {},
   "outputs": [],
   "source": [
    "def getExtents(a,b,numRows,numCols):\n",
    "    r1 = int(0)\n",
    "    c1 = int(a*r1+b) # (r1,c1) is 1st point\n",
    "    r2 = int(numRows-1)\n",
    "    c2 = int(a*r2+b) # (r2,c2) is last point\n",
    "    return (c1,r1),(c2,r2)"
   ]
  },
  {
   "cell_type": "code",
   "execution_count": 17,
   "id": "bd19fa0c",
   "metadata": {},
   "outputs": [],
   "source": [
    "s,e = getExtents(best_a,best_b,E.shape[0],E.shape[1])"
   ]
  },
  {
   "cell_type": "code",
   "execution_count": 18,
   "id": "c6a5a0bc",
   "metadata": {},
   "outputs": [
    {
     "data": {
      "text/plain": [
       "((635, 0), (1125, 498))"
      ]
     },
     "execution_count": 18,
     "metadata": {},
     "output_type": "execute_result"
    }
   ],
   "source": [
    "s,e # s: starting point, e: ending point"
   ]
  },
  {
   "cell_type": "code",
   "execution_count": 19,
   "id": "faad0b33",
   "metadata": {},
   "outputs": [
    {
     "data": {
      "text/plain": [
       "<matplotlib.image.AxesImage at 0x2ef71cdf280>"
      ]
     },
     "execution_count": 19,
     "metadata": {},
     "output_type": "execute_result"
    },
    {
     "data": {
      "image/png": "[encoded data removed]",
      "text/plain": [
       "<Figure size 432x288 with 1 Axes>"
      ]
     },
     "metadata": {
      "needs_background": "light"
     },
     "output_type": "display_data"
    }
   ],
   "source": [
    "E2 = np.zeros((E.shape[0],E.shape[1],3),dtype=np.uint8)\n",
    "E3 = np.array(255*E,dtype = np.uint8)\n",
    "E2[:,:,0] = E3\n",
    "E2[:,:,1] = E3\n",
    "E2[:,:,2] = E3\n",
    "I = cv2.line(E2,s,e,(0,0,255),3)\n",
    "plt.imshow(I[:,:,::-1])"
   ]
  },
  {
   "cell_type": "markdown",
   "id": "73ff7251",
   "metadata": {},
   "source": [
    "## Circle Detection"
   ]
  },
  {
   "cell_type": "markdown",
   "id": "33ebf1b2",
   "metadata": {},
   "source": [
    "Phương pháp viết phương trình đường tròn đi qua 3 điểm:</br>\n",
    "    Bước 1: Gọi phương trình đường tròn là (C): x^2 + y^2 - 2ax - 2by + c = 0 (E) ( với điều kiện a2 + b2 - c > 0).</br>\n",
    "    Bước 2: Do điểm A, B và C thuộc đường tròn nên thay tọa độ điểm A, B và C vào (E) ta được phương trình ba phương trình ẩn.</br>\n",
    "     Bước 3: giải hệ phương trình ba ẩn ta được phương trình đường tròn.</br>"
   ]
  },
  {
   "cell_type": "code",
   "execution_count": 20,
   "id": "d0d95362",
   "metadata": {},
   "outputs": [],
   "source": [
    "def FitCircle(x1,y1,x2,y2,x3,y3):\n",
    "    c = (x1-x2)**2 + (y1-y2)**2\n",
    "    a = (x2-x3)**2 + (y2-y3)**2\n",
    "    b = (x3-x1)**2 + (y3-y1)**2\n",
    "    s = 2*(a*b + b*c + c*a) - (a*a + b*b + c*c) \n",
    "    px = (a*(b+c-a)*x1 + b*(c+a-b)*x2 + c*(a+b-c)*x3) / s\n",
    "    py = (a*(b+c-a)*y1 + b*(c+a-b)*y2 + c*(a+b-c)*y3) / s \n",
    "    ar = a**0.5\n",
    "    br = b**0.5\n",
    "    cr = c**0.5 \n",
    "    r = ar*br*cr / ((ar+br+cr)*(-ar+br+cr)*(ar-br+cr)*(ar+br-cr))**0.5\n",
    "    return px,py,r"
   ]
  },
  {
   "cell_type": "code",
   "execution_count": 21,
   "id": "b8f4ecab",
   "metadata": {},
   "outputs": [],
   "source": [
    "def getConsistencyScore_circle(r,c,th,center_r,center_c,radius):\n",
    "    score = 0\n",
    "    for i in range(len(r)):\n",
    "        diff = ((r[i]-center_r)**2 + (c[i]-center_c)**2 - radius**2)**2\n",
    "        if diff < th:\n",
    "            score += 1\n",
    "    return score"
   ]
  },
  {
   "cell_type": "code",
   "execution_count": 22,
   "id": "0fd6d20f",
   "metadata": {},
   "outputs": [],
   "source": [
    "def RANSACCircle(E):\n",
    "    E = E>0\n",
    "    idx = np.argwhere(E)\n",
    "    r , c = idx[:,0] , idx[:,1]\n",
    "    best_cr , best_cc , best_d = 0 , 0 , 0\n",
    "    maxScore = -1\n",
    "    numIter = 2000\n",
    "    for iter in range(numIter):\n",
    "        r2,c2 = RandomSample(r,c,3)\n",
    "        center_r,center_c,radius = FitCircle(r2[0],c2[0],r2[1],c2[1],r2[2],c2[2])\n",
    "        score = getConsistencyScore_circle(r,c,3,center_r,center_c,radius)\n",
    "        if score > maxScore:\n",
    "            maxScore = score\n",
    "            best_cr , best_cc , best_d = center_r , center_c , radius\n",
    "    return best_cr , best_cc , best_d"
   ]
  },
  {
   "cell_type": "code",
   "execution_count": 23,
   "id": "2b1d04d6",
   "metadata": {},
   "outputs": [],
   "source": [
    "image = cv2.imread(r'Ec.png',cv2.IMREAD_GRAYSCALE)"
   ]
  },
  {
   "cell_type": "code",
   "execution_count": 24,
   "id": "39e17bdc",
   "metadata": {},
   "outputs": [
    {
     "data": {
      "text/plain": [
       "(-0.5, 149.5, 137.5, -0.5)"
      ]
     },
     "execution_count": 24,
     "metadata": {},
     "output_type": "execute_result"
    },
    {
     "data": {
      "image/png": "[encoded data removed]",
      "text/plain": [
       "<Figure size 432x288 with 1 Axes>"
      ]
     },
     "metadata": {
      "needs_background": "light"
     },
     "output_type": "display_data"
    }
   ],
   "source": [
    "plt.imshow(image,cmap='gray')\n",
    "plt.axis('off')"
   ]
  },
  {
   "cell_type": "code",
   "execution_count": 25,
   "id": "6397d4ca",
   "metadata": {},
   "outputs": [
    {
     "data": {
      "text/plain": [
       "(138, 150)"
      ]
     },
     "execution_count": 25,
     "metadata": {},
     "output_type": "execute_result"
    }
   ],
   "source": [
    "image.shape"
   ]
  },
  {
   "cell_type": "code",
   "execution_count": 26,
   "id": "1b158b25",
   "metadata": {},
   "outputs": [],
   "source": [
    "image = image>100"
   ]
  },
  {
   "cell_type": "code",
   "execution_count": 27,
   "id": "f5f255b3",
   "metadata": {},
   "outputs": [],
   "source": [
    "x,y,r = RANSACCircle(image)"
   ]
  },
  {
   "cell_type": "code",
   "execution_count": 28,
   "id": "26cf56b7",
   "metadata": {},
   "outputs": [
    {
     "name": "stdout",
     "output_type": "stream",
     "text": [
      "47.0 47.98571428571429 47.42964929928391\n"
     ]
    }
   ],
   "source": [
    "print(x,y,r)"
   ]
  },
  {
   "cell_type": "code",
   "execution_count": 29,
   "id": "70f10645",
   "metadata": {},
   "outputs": [
    {
     "data": {
      "text/plain": [
       "<matplotlib.image.AxesImage at 0x2ef71cf14c0>"
      ]
     },
     "execution_count": 29,
     "metadata": {},
     "output_type": "execute_result"
    },
    {
     "data": {
      "image/png": "[encoded data removed]",
      "text/plain": [
       "<Figure size 432x288 with 1 Axes>"
      ]
     },
     "metadata": {
      "needs_background": "light"
     },
     "output_type": "display_data"
    }
   ],
   "source": [
    "E2 = np.zeros((image.shape[0],image.shape[1],3),dtype=np.uint8)\n",
    "E3 = np.array(255*image,dtype = np.uint8)\n",
    "E2[:,:,0] = E3\n",
    "E2[:,:,1] = E3\n",
    "E2[:,:,2] = E3\n",
    "I = cv2.circle(E2,(int(y),int(x)),int(r),(0,0,255),2)\n",
    "plt.imshow(I[:,:,::-1])"
   ]
  }
 ],
 "metadata": {
  "kernelspec": {
   "display_name": "Python 3 (ipykernel)",
   "language": "python",
   "name": "python3"
  },
  "language_info": {
   "codemirror_mode": {
    "name": "ipython",
    "version": 3
   },
   "file_extension": ".py",
   "mimetype": "text/x-python",
   "name": "python",
   "nbconvert_exporter": "python",
   "pygments_lexer": "ipython3",
   "version": "3.9.12"
  }
 },
 "nbformat": 4,
 "nbformat_minor": 5
}
