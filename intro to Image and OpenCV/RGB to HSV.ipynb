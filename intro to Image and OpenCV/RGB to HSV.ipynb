{
 "cells": [
  {
   "cell_type": "code",
   "execution_count": 1,
   "id": "6d140973",
   "metadata": {},
   "outputs": [],
   "source": [
    "def f_rgb_to_hsv(r, g, b): \n",
    "    r, g, b = r / 255.0, g / 255.0, b / 255.0\n",
    "    cmax = max(r, g, b)    # maximum of r, g, b \n",
    "    cmin = min(r, g, b)    # minimum of r, g, b \n",
    "    diff = cmax-cmin       # diff of cmax and cmin. \n",
    "    if cmax == cmin:  \n",
    "        h = 0\n",
    "    elif cmax == r:  \n",
    "        h = (60 * ((g - b) / diff) + 0) % 360\n",
    "    elif cmax == g: \n",
    "        h = (60 * ((b - r) / diff) + 120) % 360\n",
    "    elif cmax == b: \n",
    "        h = (60 * ((r - g) / diff) + 240) % 360\n",
    "   \n",
    "    if h < 0:\n",
    "        h = h + 360\n",
    "    if cmax == 0: \n",
    "        s = 0\n",
    "    else: \n",
    "        s = (diff / cmax)\n",
    "    v = cmax\n",
    "    \n",
    "    return h, s, v "
   ]
  },
  {
   "cell_type": "code",
   "execution_count": 2,
   "id": "a5e3678d",
   "metadata": {},
   "outputs": [
    {
     "name": "stdout",
     "output_type": "stream",
     "text": [
      "(100.0, 0.75, 0.7843137254901961)\n"
     ]
    }
   ],
   "source": [
    "print(f_rgb_to_hsv(100,200,50))"
   ]
  }
 ],
 "metadata": {
  "kernelspec": {
   "display_name": "Python 3 (ipykernel)",
   "language": "python",
   "name": "python3"
  },
  "language_info": {
   "codemirror_mode": {
    "name": "ipython",
    "version": 3
   },
   "file_extension": ".py",
   "mimetype": "text/x-python",
   "name": "python",
   "nbconvert_exporter": "python",
   "pygments_lexer": "ipython3",
   "version": "3.9.12"
  }
 },
 "nbformat": 4,
 "nbformat_minor": 5
}
